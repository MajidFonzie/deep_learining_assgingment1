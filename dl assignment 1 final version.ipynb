{
 "cells": [
  {
   "cell_type": "code",
   "execution_count": 1,
   "id": "9dd5e755",
   "metadata": {},
   "outputs": [
    {
     "name": "stdout",
     "output_type": "stream",
     "text": [
      "75.4 % accuracy with  500  samples.\n",
      "81.0 % accuracy with  200  samples.\n",
      "77.21354166666666 % accuracy with  768  samples.\n"
     ]
    },
    {
     "data": {
      "image/png": "[encoded data removed]",
      "text/plain": [
       "<Figure size 432x288 with 1 Axes>"
      ]
     },
     "metadata": {
      "needs_background": "light"
     },
     "output_type": "display_data"
    }
   ],
   "source": [
    "import numpy as np\n",
    "import pandas as pd \n",
    "np.set_printoptions(suppress=True)\n",
    "\n",
    "def sigmoid(wx_sum):\n",
    "    return 1/(1+np.exp(-wx_sum))\n",
    "def cross_entropy_function(targets, predictions):\n",
    "    return -(targets*np.log10(predictions)+ (1-targets)*np.log10(1-predictions))\n",
    "\n",
    "def optimiz_weights(features,weights,learing_rate,targets,predictions):\n",
    "    new_weights = weights -(1/len(targets))*learing_rate*(features.T.dot(predictions-targets))\n",
    "    return new_weights\n",
    "def optimiz_bias(bias,weights,learing_rate,targets,predictions):\n",
    "    loss = targets-predictions\n",
    "    for l in loss:\n",
    "        opt_bias = bias + learing_rate * l\n",
    "    return opt_bias\n",
    "\n",
    "def training(features,targets,weights,epochs,learing_rate,bias):\n",
    "    epoch_loss = []\n",
    "    for run in range(epochs):\n",
    "        wx_sum = np.dot(features,weights)+bias\n",
    "\n",
    "        predictions = sigmoid(wx_sum)\n",
    "        loss = cross_entropy_function(targets,predictions)\n",
    "#         loss = targets - predictions\n",
    "        epoch_loss.append((sum(loss)/len(loss)))\n",
    "        weights = optimiz_weights(features,weights,learing_rate,targets,predictions)\n",
    "        bias = optimiz_bias(bias,weights,learing_rate,targets,predictions)\n",
    "\n",
    "    accuracy(predictions,targets,bias)\n",
    "    df = pd.DataFrame(epoch_loss)\n",
    "    df_plot = df.plot(kind='line',grid=True).get_figure()\n",
    "    return bias,weights\n",
    "def accuracy(predictions,targets,bias):\n",
    "    total = 0\n",
    "    for p,t in zip(predictions,targets):\n",
    "        if round(p)==t:\n",
    "            total +=1\n",
    "    print(total/len(predictions)*100,'% accuracy with ',len(predictions),' samples.')\n",
    "def test(features,targets,weights,bias):\n",
    "    wx_sum = np.dot(features,weights)+bias\n",
    "    predictions = sigmoid(wx_sum)\n",
    "    accuracy(predictions,targets,bias)\n",
    "        \n",
    "        \n",
    "# Loading Data\n",
    "data = pd.read_csv('diabetes.csv')  \n",
    "all_targets = data[\"Outcome\"].to_numpy() #the real results to be compeared to the perceptron prediction\n",
    "data.fillna(0)\n",
    "data = data.drop(columns=\"Outcome\") #drop the results from our process\n",
    "data = data[:].values #make the dataframe a simple array of arrays\n",
    "training_data = np.array(data[:500])\n",
    "training_targets= np.array(all_targets[:500])\n",
    "\n",
    "weights = np.random.rand(8)*0.01\n",
    "bias = 0.5\n",
    "learing_rate = 0.0001\n",
    "epochs = 150000\n",
    "\n",
    "bias,weights = training(training_data,training_targets,weights,epochs,learing_rate,bias)\n",
    "test(data[500:700],all_targets[500:700],weights,bias)\n",
    "test(data,all_targets,weights,bias)\n",
    "\n",
    "\n",
    "\n",
    "    \n",
    "        \n",
    "    \n",
    "    \n"
   ]
  }
 ],
 "metadata": {
  "kernelspec": {
   "display_name": "Python 3 (ipykernel)",
   "language": "python",
   "name": "python3"
  },
  "language_info": {
   "codemirror_mode": {
    "name": "ipython",
    "version": 3
   },
   "file_extension": ".py",
   "mimetype": "text/x-python",
   "name": "python",
   "nbconvert_exporter": "python",
   "pygments_lexer": "ipython3",
   "version": "3.9.12"
  }
 },
 "nbformat": 4,
 "nbformat_minor": 5
}
